{
 "cells": [
  {
   "cell_type": "code",
   "execution_count": 3,
   "metadata": {},
   "outputs": [],
   "source": [
    "import torch\n",
    "from torch import nn as nn\n",
    "from torch import tensor\n"
   ]
  },
  {
   "cell_type": "code",
   "execution_count": 21,
   "metadata": {},
   "outputs": [],
   "source": [
    "#CREATING BINARY MODEL\n",
    "class BinaryModel(nn.Module):\n",
    "  def __init__(self):\n",
    "    super(BinaryModel, self).__init__()\n",
    "    self.linear1 = nn.Linear(9,7)\n",
    "    self.linear2 = nn.Linear(7, 4)\n",
    "    self.linear3 = nn.Linear(4,1)\n",
    "    self.activation = nn.Sigmoid()\n",
    "  \n",
    "  def forward(self, x):\n",
    "    x = self.linear1(x)\n",
    "    x = self.linear2(x)\n",
    "    x = self.linear3(x)\n",
    "    x = self.activation(x)\n",
    "    return x\n",
    "  \n",
    "model = BinaryModel()\n",
    "\n"
   ]
  },
  {
   "cell_type": "code",
   "execution_count": 23,
   "metadata": {},
   "outputs": [],
   "source": [
    "#PANDAS TO READ CSV AND REPLACE NULL DATA\n",
    "\n",
    "import pandas\n",
    "\n",
    "data = pandas.read_csv('./water_potability.csv')\n",
    "data.fillna(data.mean(), inplace=True)\n",
    "\n",
    "\n",
    "#DROP THE POTABILITY COLUMN FROM THE DATA\n",
    "\n",
    "#FEATURES IS A PANDAS DATAFROM (2D OBJECT)\n",
    "features = data.drop('Potability', axis =1)\n",
    "labels = data['Potability']"
   ]
  },
  {
   "cell_type": "code",
   "execution_count": 16,
   "metadata": {},
   "outputs": [],
   "source": [
    "#STANDARDIZE/NORMALIZE DATA TO HANDLE OUTLIERS IN DATASET\n",
    "\n",
    "from sklearn.preprocessing import StandardScaler\n",
    "\n",
    "scaler = StandardScaler()\n",
    "\n",
    "#THIS METHOD TRANSFORMS THE 2D DATAFRAME INTO A LIST OF 9 VALUES TO BE PASSED TO THE MODEL FOR EACH ROW OF THE DATAFRAME\n",
    "scaled_features = scaler.fit_transform(features)\n"
   ]
  },
  {
   "cell_type": "code",
   "execution_count": 25,
   "metadata": {},
   "outputs": [
    {
     "name": "stdout",
     "output_type": "stream",
     "text": [
      "tensor([0.4957], grad_fn=<SigmoidBackward0>)\n"
     ]
    }
   ],
   "source": [
    "#DEFINE TRAINING BATCHES\n",
    "\n",
    "from sklearn.model_selection import train_test_split\n",
    "\n",
    "training_1, testing_1, training_2, testing_2 = train_test_split(scaled_features, labels, test_size=0.2, random_state=50)\n",
    "\n",
    "training_1_tensor = tensor(training_1, dtype=torch.float32)\n",
    "\n",
    "prediction = model(training_1_tensor[0])\n",
    "print(prediction)"
   ]
  }
 ],
 "metadata": {
  "kernelspec": {
   "display_name": "lmenv",
   "language": "python",
   "name": "python3"
  },
  "language_info": {
   "codemirror_mode": {
    "name": "ipython",
    "version": 3
   },
   "file_extension": ".py",
   "mimetype": "text/x-python",
   "name": "python",
   "nbconvert_exporter": "python",
   "pygments_lexer": "ipython3",
   "version": "3.12.3"
  },
  "orig_nbformat": 4
 },
 "nbformat": 4,
 "nbformat_minor": 2
}
